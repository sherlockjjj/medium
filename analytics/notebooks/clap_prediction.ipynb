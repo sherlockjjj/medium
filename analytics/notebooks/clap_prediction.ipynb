{
 "cells": [
  {
   "cell_type": "code",
   "execution_count": null,
   "metadata": {},
   "outputs": [],
   "source": [
    "import json\n",
    "import numpy as np\n",
    "import pandas as pd\n",
    "\n",
    "import sys\n",
    "sys.path.append('..')\n",
    "from preprocess import MediumBlogPost\n",
    "\n",
    "import seaborn.apionly as sns\n",
    "import matplotlib.pyplot as plt\n",
    "%matplotlib inline\n",
    "\n",
    "\n",
    "file_path = '/Users/Kevin/Downloads/data-science.jl'"
   ]
  },
  {
   "cell_type": "code",
   "execution_count": null,
   "metadata": {},
   "outputs": [],
   "source": [
    "dfs = []\n",
    "broadcast_dfs = []\n",
    "with open(file_path) as f:\n",
    "    for line in f:\n",
    "        # get raw data\n",
    "        row = MediumBlogPost(**json.loads(line)).to_frame()\n",
    "        dfs.append(row)\n",
    "        # get df_broadcast\n",
    "        row_b = pd.DataFrame(MediumBlogPost(**json.loads(line)).to_dict())\n",
    "        broadcast_dfs.append(row_b)\n",
    "\n",
    "\n",
    "df = pd.concat(dfs).reset_index(drop=True)\n",
    "df_broadcast = pd.concat(broadcast_dfs).reset_index(drop=True)"
   ]
  }
 ],
 "metadata": {
  "kernelspec": {
   "display_name": "Python 3",
   "language": "python",
   "name": "python3"
  },
  "language_info": {
   "codemirror_mode": {
    "name": "ipython",
    "version": 3
   },
   "file_extension": ".py",
   "mimetype": "text/x-python",
   "name": "python",
   "nbconvert_exporter": "python",
   "pygments_lexer": "ipython3",
   "version": "3.6.5"
  }
 },
 "nbformat": 4,
 "nbformat_minor": 2
}
